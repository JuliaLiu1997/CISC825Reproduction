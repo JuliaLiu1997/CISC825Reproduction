{
 "cells": [
  {
   "cell_type": "code",
   "execution_count": 6,
   "metadata": {},
   "outputs": [
    {
     "name": "stdout",
     "output_type": "stream",
     "text": [
      "Combine 450 files\n"
     ]
    }
   ],
   "source": [
    "import pandas as pd\n",
    "import os \n",
    "\n",
    "Folder_Path= 'C:/Users/JuliaLiu/Desktop/CISC 825 Project/pollution'\n",
    "SaveFile_Path='C:/Users/JuliaLiu/Desktop/CISC 825 Project/pollution' \n",
    "SaveFile_Name='pollution.csv'\n",
    "\n",
    "os.chdir(Folder_Path)\n",
    "file_list = os.listdir()\n",
    "\n",
    "fileStart = 1\n",
    "fileEnd = len(file_list)\n",
    "for i in range(fileStart,fileEnd):\n",
    "    df = pd.read_csv(Folder_Path + '/' + file_list[i], \n",
    "               encoding='latin-1')\n",
    "    df.to_csv (SaveFile_Path + '/' + SaveFile_Name,\n",
    "               encoding='latin-1',\n",
    "               index = False,\n",
    "               header = False,\n",
    "               mode = 'a')\n",
    "print('Combine %i files'% len(file_list))"
   ]
  },
  {
   "cell_type": "code",
   "execution_count": null,
   "metadata": {},
   "outputs": [],
   "source": []
  }
 ],
 "metadata": {
  "kernelspec": {
   "display_name": "Python 3",
   "language": "python",
   "name": "python3"
  },
  "language_info": {
   "codemirror_mode": {
    "name": "ipython",
    "version": 3
   },
   "file_extension": ".py",
   "mimetype": "text/x-python",
   "name": "python",
   "nbconvert_exporter": "python",
   "pygments_lexer": "ipython3",
   "version": "3.8.3"
  }
 },
 "nbformat": 4,
 "nbformat_minor": 4
}
