{
  "nbformat": 4,
  "nbformat_minor": 0,
  "metadata": {
    "colab": {
      "name": "CISC825 MapReduce",
      "provenance": [],
      "collapsed_sections": []
    },
    "kernelspec": {
      "name": "python3",
      "display_name": "Python 3"
    },
    "language_info": {
      "name": "python"
    }
  },
  "cells": [
    {
      "cell_type": "code",
      "metadata": {
        "id": "a_QgQj6rJUWV"
      },
      "source": [
        "!apt-get install openjdk-8-jdk-headless -qq > /dev/null\n",
        "!wget -q https://www-us.apache.org/dist/spark/spark-2.4.7/spark-2.4.7-bin-hadoop2.7.tgz\n",
        "!tar xf spark-2.4.7-bin-hadoop2.7.tgz\n",
        "!pip install -q findspark"
      ],
      "execution_count": null,
      "outputs": []
    },
    {
      "cell_type": "code",
      "metadata": {
        "colab": {
          "base_uri": "https://localhost:8080/"
        },
        "id": "_fTCvpnxMQFF",
        "outputId": "dde918d2-695e-41b3-8829-30510499806b"
      },
      "source": [
        "from google.colab import drive\n",
        "drive.mount('/content/drive')"
      ],
      "execution_count": null,
      "outputs": [
        {
          "output_type": "stream",
          "text": [
            "Mounted at /content/drive\n"
          ],
          "name": "stdout"
        }
      ]
    },
    {
      "cell_type": "code",
      "metadata": {
        "id": "gdPRsOZvJY00"
      },
      "source": [
        "import os\n",
        "os.environ[\"JAVA_HOME\"] = \"/usr/lib/jvm/java-8-openjdk-amd64\"\n",
        "os.environ[\"SPARK_HOME\"] = \"/content/spark-2.4.7-bin-hadoop2.7\"\n",
        "import findspark\n",
        "findspark.init()\n",
        "from pyspark import SparkContext\n",
        "sc = SparkContext.getOrCreate();\n"
      ],
      "execution_count": null,
      "outputs": []
    },
    {
      "cell_type": "code",
      "metadata": {
        "colab": {
          "base_uri": "https://localhost:8080/"
        },
        "id": "M57m4OJgMdtu",
        "outputId": "0353eb35-822f-47d5-d54e-b6f4d6b8605e"
      },
      "source": [
        "words = sc.textFile(\"/content/drive/MyDrive/CISC825/pollution.csv\").flatMap(lambda line: line.split(\"\\n\"))\n",
        "words.take(5)"
      ],
      "execution_count": null,
      "outputs": [
        {
          "output_type": "execute_result",
          "data": {
            "text/plain": [
              "['ozone,particullate_matter,carbon_monoxide,sulfure_dioxide,nitrogen_dioxide,longitude,latitude,timestamp',\n",
              " '103,81,33,31,40,10.116589665412905,56.22579478256016,2014-08-01 00:05:00',\n",
              " '99,79,35,36,44,10.116589665412905,56.22579478256016,2014-08-01 00:10:00',\n",
              " '102,80,33,36,47,10.116589665412905,56.22579478256016,2014-08-01 00:15:00',\n",
              " '107,82,33,36,45,10.116589665412905,56.22579478256016,2014-08-01 00:20:00']"
            ]
          },
          "metadata": {
            "tags": []
          },
          "execution_count": 6
        }
      ]
    },
    {
      "cell_type": "code",
      "metadata": {
        "id": "JCtnKqZpK3VT"
      },
      "source": [
        "def RecordMapper(record):\n",
        "  records = record.split(\",\")\n",
        "  if records[0]==\"ozone\":\n",
        "    return (\"\", (0, 0, 0, 0, 0, 0))\n",
        "  else:\n",
        "    return (records[7], (int(records[0]), int(records[1]), int(records[2]), int(records[3]), int(records[4]),  1))\n"
      ],
      "execution_count": null,
      "outputs": []
    },
    {
      "cell_type": "code",
      "metadata": {
        "id": "urP3fjX3PBoU"
      },
      "source": [
        "record_list_rdd = words.map(lambda x: RecordMapper(x))"
      ],
      "execution_count": null,
      "outputs": []
    },
    {
      "cell_type": "code",
      "metadata": {
        "colab": {
          "base_uri": "https://localhost:8080/"
        },
        "id": "muDg0fPvQ5p7",
        "outputId": "24bf72b0-0e9d-4ce4-f3c7-e3930b83c24b"
      },
      "source": [
        "record_list_rdd.collect()\n",
        "record_list_rdd.take(5)"
      ],
      "execution_count": null,
      "outputs": [
        {
          "output_type": "execute_result",
          "data": {
            "text/plain": [
              "[('', (0, 0, 0, 0, 0, 0)),\n",
              " ('2014-08-01 00:05:00', (103, 81, 33, 31, 40, 1)),\n",
              " ('2014-08-01 00:10:00', (99, 79, 35, 36, 44, 1)),\n",
              " ('2014-08-01 00:15:00', (102, 80, 33, 36, 47, 1)),\n",
              " ('2014-08-01 00:20:00', (107, 82, 33, 36, 45, 1))]"
            ]
          },
          "metadata": {
            "tags": []
          },
          "execution_count": 24
        }
      ]
    },
    {
      "cell_type": "code",
      "metadata": {
        "colab": {
          "base_uri": "https://localhost:8080/"
        },
        "id": "3eNfNMJxRv8a",
        "outputId": "14720af9-0882-4cf9-f1bc-19ccb3ca72e1"
      },
      "source": [
        "record_counts_rdd = record_list_rdd.reduceByKey(lambda x, y: (x[0] + y[0], x[1] + y[1], x[2] + y[2], x[3] + y[3], x[4] + y[4], x[5] + y[5]))\n",
        "record_counts_rdd"
      ],
      "execution_count": null,
      "outputs": [
        {
          "output_type": "execute_result",
          "data": {
            "text/plain": [
              "PythonRDD[39] at RDD at PythonRDD.scala:53"
            ]
          },
          "metadata": {
            "tags": []
          },
          "execution_count": 39
        }
      ]
    },
    {
      "cell_type": "code",
      "metadata": {
        "colab": {
          "base_uri": "https://localhost:8080/"
        },
        "id": "l3FS4tvRSQm3",
        "outputId": "58963010-9f9f-4c53-9756-a5661ad2556b"
      },
      "source": [
        "record_counts_rdd.take(5)"
      ],
      "execution_count": null,
      "outputs": [
        {
          "output_type": "execute_result",
          "data": {
            "text/plain": [
              "[('', (0, 0, 0, 0, 0, 0)),\n",
              " ('2014-08-01 01:55:00', (28008, 27625, 28509, 28256, 28061, 448)),\n",
              " ('2014-08-01 03:20:00', (28436, 28015, 29258, 28831, 28410, 448)),\n",
              " ('2014-08-01 04:25:00', (28200, 28823, 29752, 29337, 28650, 448)),\n",
              " ('2014-08-01 07:10:00', (29134, 28852, 30048, 30357, 29389, 448))]"
            ]
          },
          "metadata": {
            "tags": []
          },
          "execution_count": 40
        }
      ]
    },
    {
      "cell_type": "code",
      "metadata": {
        "colab": {
          "base_uri": "https://localhost:8080/"
        },
        "id": "p9GKrKgvSEog",
        "outputId": "362cff02-c4c6-4fb2-e3b1-c1c8b1531c5f"
      },
      "source": [
        "record_sum = record_counts_rdd.collect()\n",
        "record_sum[:5]"
      ],
      "execution_count": null,
      "outputs": [
        {
          "output_type": "execute_result",
          "data": {
            "text/plain": [
              "[('', (0, 0, 0, 0, 0, 0)),\n",
              " ('2014-08-01 01:55:00', (28008, 27625, 28509, 28256, 28061, 448)),\n",
              " ('2014-08-01 03:20:00', (28436, 28015, 29258, 28831, 28410, 448)),\n",
              " ('2014-08-01 04:25:00', (28200, 28823, 29752, 29337, 28650, 448)),\n",
              " ('2014-08-01 07:10:00', (29134, 28852, 30048, 30357, 29389, 448))]"
            ]
          },
          "metadata": {
            "tags": []
          },
          "execution_count": 41
        }
      ]
    },
    {
      "cell_type": "code",
      "metadata": {
        "id": "9-ggXwkVVZty"
      },
      "source": [
        "output = \"/content/drive/MyDrive/CISC825/records.csv\"\n",
        "with open(output, 'w', encoding=\"utf-8\") as outputf:\n",
        "  for r in record_sum[1:]:\n",
        "    time = r[0]\n",
        "    result = r[1]\n",
        "    count = result[5]\n",
        "    outputf.write(time+','+str(int(result[0]/count))+','+str(int(result[1]/count))+','+str(int(result[2]/count))+','+str(int(result[3]/count))+','+str(int(result[4]/count))+'\\n')\n",
        "    outputf.flush()"
      ],
      "execution_count": null,
      "outputs": []
    }
  ]
}